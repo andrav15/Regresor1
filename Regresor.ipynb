{
  "nbformat": 4,
  "nbformat_minor": 0,
  "metadata": {
    "colab": {
      "provenance": [],
      "authorship_tag": "ABX9TyPo9BTrRByaBBTb5227QRWG",
      "include_colab_link": true
    },
    "kernelspec": {
      "name": "python3",
      "display_name": "Python 3"
    },
    "language_info": {
      "name": "python"
    }
  },
  "cells": [
    {
      "cell_type": "markdown",
      "metadata": {
        "id": "view-in-github",
        "colab_type": "text"
      },
      "source": [
        "<a href=\"https://colab.research.google.com/github/andrav15/Regresor1/blob/main/Regresor.ipynb\" target=\"_parent\"><img src=\"https://colab.research.google.com/assets/colab-badge.svg\" alt=\"Open In Colab\"/></a>"
      ]
    },
    {
      "cell_type": "code",
      "execution_count": null,
      "metadata": {
        "id": "9v0YFbZhI_1T"
      },
      "outputs": [],
      "source": [
        "import torch\n",
        "import math"
      ]
    },
    {
      "cell_type": "code",
      "source": [
        "#crearea datelor\n",
        "x = torch.linspace(-math.pi, math.pi, 2000)#tensor care contine 2000 de valori ale lui x uniform distribuite (-pi;pi)\n",
        "y = torch.sin(x)#tensor y=sinusul val din x->iesirea\n"
      ],
      "metadata": {
        "id": "EloWPDgpLL1Z"
      },
      "execution_count": null,
      "outputs": []
    },
    {
      "cell_type": "code",
      "source": [
        "#pregatirea intrarilor\n",
        "p = torch.tensor([1, 2, 3])#reprezinta puterile lui x\n",
        "xx = x.unsqueeze(-1).pow(p)#contine puterile lui x(x^1,x*2,x^3)\n",
        "#x.unsqueeze(-1):(200,)->(2000,1) ad undei dim supl\n",
        "#cand ridicam x.unsqueeze(-1) la puteri(dim p =3)->tensor(2000,3) adica col1:x^1,col2:x^2,col3:x^3\n",
        "\n"
      ],
      "metadata": {
        "id": "HMiKaQpYjNYg"
      },
      "execution_count": null,
      "outputs": []
    },
    {
      "cell_type": "code",
      "source": [
        "#definim modelul\n",
        "model = torch.nn.Sequential(#model neural in care straturile sunt aplicate secvential\n",
        "    torch.nn.Linear(3, 1),#strat liniar:calc iesirea fol o combinatie liniara a intrarilor\n",
        "                            #in dim 3, iesirea dim 1\n",
        "    torch.nn.Flatten(0, 1)#strat de aplatizare:transf iesirea care poate avea mai multe dim intr-un tensor 1D\n",
        "                            #aici iesirea are deja dim1->ajusteaza dim pt a se potrivi cu dim dorita a lui y\n",
        ")\n",
        "#in acest caz invata o rel de forma y=bias+w1x+w2x^2+w3x^3, unde bias si w1,w2,w3 sunt optimizate in timpul antrenarii pt a aprox cat mai bn y=sin(x)"
      ],
      "metadata": {
        "id": "lqqJjBPDjdlO"
      },
      "execution_count": null,
      "outputs": []
    },
    {
      "cell_type": "code",
      "source": [
        "#fct de pierdere: eroarea patratica medie(MSE)\n",
        "#MSE este preferata in regresie pt ca penalizeaza erorile mari ceea ce este esential pt prezicerea val numerice continue\n",
        "loss_fn = torch.nn.MSELoss(reduction='sum')\n",
        "#argumentul reduction='sum': indica ca val calculate pt erorile patratice sunt sumate la final\n",
        "#alegem sum: pierderea creste prop cu dim lotului\n",
        "#daca alegeam mean: pierderea era independenta de dim lotului"
      ],
      "metadata": {
        "id": "eddiLYBcnB8C"
      },
      "execution_count": null,
      "outputs": []
    },
    {
      "cell_type": "code",
      "source": [
        "learning_rate = 1e-6#val f mica pt o antrenare stabila  si evita suprainvatarea"
      ],
      "metadata": {
        "id": "dFcCx8UOpjS9"
      },
      "execution_count": null,
      "outputs": []
    },
    {
      "cell_type": "code",
      "source": [
        "#antrenarea astfel incat sa minimizam erorile\n",
        "for t in range(2000):#2000 de epoci\n",
        "    y_pred = model(xx)#pt fiecare epoca calc predicatia\n",
        "    loss = loss_fn(y_pred, y)#evalueaza pierderea:compara predictiile y_pred cu val reale y si calc fol MSE\n",
        "    if t % 100 == 99:\n",
        "      print(t,loss.item())#afiseaza pierderea la fiecare 100 de epoci pt a urmari progresul antrenarii\n",
        "    model.zero_grad()#resetarea gradientului pt a nu se acumula toate val grad care ar duce la erori mari\n",
        "    loss.backward()#actualizeaza greutatile prin backpropagation->partea cheie a invatarii\n",
        "    with torch.no_grad():#nu dorim sa urmarim grad; pytorch tine evidenta grad pt calcularea backpropgation dar in timpul actualizarii nu avem nev\n",
        "        for param in model.parameters():#iteram prin toti param(bias,w)\n",
        "            param -= learning_rate * param.grad#ajusteaza fiecare param\n",
        "            #param.grad- grad pierderii in raport cu acel param calculat mai sus\n",
        "            #daca learning_rate este mic->ajustarea va fi mica;lr mare->ajustare mare a param"
      ],
      "metadata": {
        "colab": {
          "base_uri": "https://localhost:8080/"
        },
        "id": "6FiktUUcpV9v",
        "outputId": "1bca5b83-0844-4559-c414-daa7b5008f45"
      },
      "execution_count": null,
      "outputs": [
        {
          "output_type": "stream",
          "name": "stdout",
          "text": [
            "99 518.34033203125\n",
            "199 351.58795166015625\n",
            "299 239.61337280273438\n",
            "399 164.36012268066406\n",
            "499 113.74287414550781\n",
            "599 79.6661148071289\n",
            "699 56.70390319824219\n",
            "799 41.21687316894531\n",
            "899 30.761289596557617\n",
            "999 23.69558334350586\n",
            "1099 18.915843963623047\n",
            "1199 15.679121017456055\n",
            "1299 13.485005378723145\n",
            "1399 11.996028900146484\n",
            "1499 10.98445987701416\n",
            "1599 10.296465873718262\n",
            "1699 9.828039169311523\n",
            "1799 9.508742332458496\n",
            "1899 9.290839195251465\n",
            "1999 9.141968727111816\n"
          ]
        }
      ]
    },
    {
      "cell_type": "code",
      "source": [
        "linear_layer = model[0]#extragem primul strat care e un strat liniar pt accesarea directa a param sai(w si bias)\n"
      ],
      "metadata": {
        "id": "A5MvGREJtfRL"
      },
      "execution_count": null,
      "outputs": []
    },
    {
      "cell_type": "code",
      "source": [
        "print(f'Result: y = {linear_layer.bias.item()} + {linear_layer.weight[:, 0].item()} x + {linear_layer.weight[:, 1].item()} x^2 + {linear_layer.weight[:, 2].item()} x^3')\n",
        "#afisarea modelului fial ca o ecuatie a unei fct polinomiale de gradul 3"
      ],
      "metadata": {
        "colab": {
          "base_uri": "https://localhost:8080/"
        },
        "id": "4SR9N5Fkt1RJ",
        "outputId": "efc305a1-dba1-4224-c4dc-6d097956cd47"
      },
      "execution_count": null,
      "outputs": [
        {
          "output_type": "stream",
          "name": "stdout",
          "text": [
            "Result: y = -0.014068412594497204 + 0.8449088931083679 x + 0.0024270338471978903 x^2 + -0.09164739400148392 x^3\n"
          ]
        }
      ]
    }
  ]
}